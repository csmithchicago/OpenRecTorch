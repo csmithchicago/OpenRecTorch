{
 "cells": [
  {
   "cell_type": "markdown",
   "metadata": {
    "colab_type": "text",
    "id": "view-in-github"
   },
   "source": [
    "[View in Colaboratory](https://colab.research.google.com/github/ylongqi/openrec/blob/master/tutorials/OpenRec_Basics_Diversity_and_Fairness.ipynb)"
   ]
  },
  {
   "cell_type": "markdown",
   "metadata": {
    "colab_type": "text",
    "id": "1Ql0oQmCi_5K"
   },
   "source": [
    "<p align=\"center\">\n",
    "  <img src =\"https://recsys.acm.org/wp-content/uploads/2017/07/recsys-18-small.png\" height=\"40\" /> <font size=\"4\">Recsys 2018 Tutorial</font>\n",
    "</p>\n",
    "<p align=\"center\">\n",
    "  <font size=\"4\"><b>Modularizing Deep Neural Network-Inspired Recommendation Algorithms</b></font>\n",
    "</p>\n",
    "<p align=\"center\">\n",
    "  <font size=\"4\">Hands on: Intro to OpenRec + diversity and fairness</font>\n",
    "</p>"
   ]
  },
  {
   "cell_type": "markdown",
   "metadata": {
    "colab_type": "text",
    "id": "MJOeBgu7w1Qy"
   },
   "source": [
    "# Part1. Get started with the framework and look into per-group accuracy of recommendations"
   ]
  },
  {
   "cell_type": "markdown",
   "metadata": {
    "colab_type": "text",
    "id": "vIVn1P4lnxbb"
   },
   "source": [
    "Recommender systems contain multiple pieces that needed to be implemented: data processing, model training, inference. OpenRec allows to use modularized approach to implement different pieces separately and reuse them for different recommenders. \n",
    "\n",
    "## here is the sample pipeline"
   ]
  },
  {
   "cell_type": "markdown",
   "metadata": {
    "colab_type": "text",
    "id": "-7377Dd3oPa0"
   },
   "source": [
    "<p align=\"center\">\n",
    " <img src =\"https://s3.amazonaws.com/cornell-tech-sdl-openrec/tutorials/pipeline.png\" width=\"500\" height=“20” />\n",
    "</p>\n"
   ]
  },
  {
   "cell_type": "markdown",
   "metadata": {
    "colab_type": "text",
    "id": "cRnurYm91MrY"
   },
   "source": [
    "## data\n",
    "\n",
    "For this tutorial we use Last.fm dataset with 1K users history. This is a toy problem and you can explore larger dataset examples in our repo (Amazon, CiteULike, Tradesy).\n",
    "\n",
    "\n",
    "![alt text](https://s3.amazonaws.com/cornell-tech-sdl-openrec/lastfm/fairness/last.png)\n",
    "\n",
    "\n",
    "* 1000 users\n",
    "* 15000 items\n",
    "* 570K entries\n",
    "\n",
    "## task\n",
    "\n",
    "1. Recommend artists that a user will like.\n",
    "2. Evaluate the performance on different user groups\n"
   ]
  },
  {
   "cell_type": "code",
   "execution_count": 1,
   "metadata": {
    "colab": {},
    "colab_type": "code",
    "id": "REwn-8xRw5pv"
   },
   "outputs": [
    {
     "data": {
      "text/plain": [
       "('lastfm_users.json', <http.client.HTTPMessage at 0x7fcee6f872e8>)"
      ]
     },
     "execution_count": 1,
     "metadata": {},
     "output_type": "execute_result"
    }
   ],
   "source": [
    "# !pip install tensorflow\n",
    "# !pip install matplotlib\n",
    "# !pip install openrec\n",
    "\n",
    "import urllib.request\n",
    "\n",
    "dataset_prefix = 'http://s3.amazonaws.com/cornell-tech-sdl-openrec'\n",
    "urllib.request.urlretrieve('%s/lastfm/fairness/lastfm1k.npy' % dataset_prefix, \n",
    "                   'lastfm1k.npy')\n",
    "urllib.request.urlretrieve('%s/lastfm/fairness/lastfm_artists.json' % dataset_prefix, \n",
    "                   'lastfm_artists.json')\n",
    "urllib.request.urlretrieve('%s/lastfm/fairness/lastfm_users.json' % dataset_prefix, \n",
    "                   'lastfm_users.json')"
   ]
  },
  {
   "cell_type": "code",
   "execution_count": 2,
   "metadata": {
    "colab": {},
    "colab_type": "code",
    "id": "8yGop_34BVYv"
   },
   "outputs": [],
   "source": [
    "import tensorflow as tf\n",
    "import random\n",
    "\n",
    "random.seed(1)\n",
    "tf.set_random_seed(1)\n",
    "import numpy as np\n",
    "import json\n",
    "import matplotlib.pyplot as plt\n",
    "from collections import defaultdict\n",
    "from tqdm import tqdm_notebook as tqdm"
   ]
  },
  {
   "cell_type": "markdown",
   "metadata": {
    "colab_type": "text",
    "id": "bTno1U6pgc1C"
   },
   "source": [
    "## load data and split into train and test set"
   ]
  },
  {
   "cell_type": "code",
   "execution_count": 3,
   "metadata": {
    "colab": {},
    "colab_type": "code",
    "id": "KQuHXkt3Ce7p"
   },
   "outputs": [
    {
     "name": "stdout",
     "output_type": "stream",
     "text": [
      "data sample:\t (912, 3121)\n",
      "data type:\t [('user_id', '<i4'), ('item_id', '<i4')]\n",
      "data shape:\t (571007,)\n"
     ]
    }
   ],
   "source": [
    "# load data\n",
    "\n",
    "raw_data = dict()\n",
    "raw_data['max_user'] = 992\n",
    "raw_data['max_item'] = 14598\n",
    "data = np.load('./lastfm1k.npy')\n",
    "range_ids = list(range(data.shape[0]))\n",
    "random.shuffle(range_ids)\n",
    "\n",
    "print(\"data sample:\\t\", data[0])\n",
    "print(\"data type:\\t\", data[0].dtype)\n",
    "print(\"data shape:\\t\", data.shape)"
   ]
  },
  {
   "cell_type": "code",
   "execution_count": 4,
   "metadata": {
    "colab": {},
    "colab_type": "code",
    "id": "3HBaKQn-gux1"
   },
   "outputs": [],
   "source": [
    "# split data 90:10\n",
    "raw_data['train_data'] = data[range_ids[:int(data.shape[0]*0.9)]]\n",
    "raw_data['test_data'] = data[range_ids[int(data.shape[0]*0.9):]]"
   ]
  },
  {
   "cell_type": "markdown",
   "metadata": {
    "colab_type": "text",
    "id": "3o6BMqjCgwRH"
   },
   "source": [
    "## create train dataset"
   ]
  },
  {
   "cell_type": "code",
   "execution_count": 5,
   "metadata": {
    "colab": {},
    "colab_type": "code",
    "id": "XDMJY5RMslu6"
   },
   "outputs": [],
   "source": [
    "from openrec.utils import Dataset\n",
    "\n",
    "\n",
    "train_dataset = Dataset(raw_data['train_data'], raw_data['max_user'], \n",
    "                        raw_data['max_item'], name='Train')"
   ]
  },
  {
   "cell_type": "markdown",
   "metadata": {
    "colab_type": "text",
    "id": "sc1TkLLnDquH"
   },
   "source": [
    "## load users data and calculate gender balance"
   ]
  },
  {
   "cell_type": "code",
   "execution_count": 6,
   "metadata": {
    "colab": {},
    "colab_type": "code",
    "id": "_PvnKMklsuDW"
   },
   "outputs": [
    {
     "data": {
      "image/png": "[encoded data removed]",
      "text/plain": [
       "<Figure size 432x288 with 1 Axes>"
      ]
     },
     "metadata": {},
     "output_type": "display_data"
    }
   ],
   "source": [
    "with open('./lastfm_users.json','r') as f:\n",
    "    users = json.load(f)\n",
    "gender_balance= defaultdict(int)\n",
    "for user in users['metadata']:\n",
    "    gender_balance[user['gender']] += 1\n",
    "gender_balance\n",
    "\n",
    "gender_dict= defaultdict(list)\n",
    "for pos, user in enumerate(users['metadata']):\n",
    "    gender_dict[(user['gender'])].append(pos)\n",
    "    \n",
    "## convert back to dict() to prevent accidental modifications\n",
    "gender_dict = dict(gender_dict)\n",
    "    \n",
    "# extract nan value\n",
    "nan_value = list(gender_dict.keys())[2]\n",
    "\n",
    "balance = [(x, len(y)/raw_data['max_user']) for x, y in gender_dict.items()]\n",
    "\n",
    "plt.title('Users gender balance')\n",
    "graph = plt.pie([x[1] for x in balance], labels=[x[0] for x in balance], autopct='%1.1f%%',\n",
    "        shadow=True, startangle=90, textprops={'fontsize': 18})\n",
    "\n"
   ]
  },
  {
   "cell_type": "markdown",
   "metadata": {
    "colab_type": "text",
    "id": "oyTWiTzOhNa8"
   },
   "source": [
    "## define hyperparameters"
   ]
  },
  {
   "cell_type": "code",
   "execution_count": 7,
   "metadata": {
    "colab": {},
    "colab_type": "code",
    "id": "L5cvsFM7xV-2"
   },
   "outputs": [],
   "source": [
    "dim_embed = 10\n",
    "total_iter = int(5e3)\n",
    "eval_iter = 5000\n",
    "batch_size = 1000\n",
    "save_iter = eval_iter"
   ]
  },
  {
   "cell_type": "markdown",
   "metadata": {
    "colab_type": "text",
    "id": "7V4Umg59hTZY"
   },
   "source": [
    "## create sampler"
   ]
  },
  {
   "cell_type": "code",
   "execution_count": 8,
   "metadata": {
    "colab": {},
    "colab_type": "code",
    "id": "ZmxXd88-_1U7"
   },
   "outputs": [],
   "source": [
    "from openrec.utils.samplers import RandomPointwiseSampler\n",
    "# https://github.com/ylongqi/openrec/blob/master/openrec/utils/samplers/random_pointwise_sampler.py \n",
    "\n",
    "\n",
    "train_sampler_pointwise = RandomPointwiseSampler(batch_size=batch_size, dataset=train_dataset, num_process=5)"
   ]
  },
  {
   "cell_type": "markdown",
   "metadata": {
    "colab_type": "text",
    "id": "nVG3j1syxhhc"
   },
   "source": [
    "## create evaluators and samplers per gender for users"
   ]
  },
  {
   "cell_type": "code",
   "execution_count": 9,
   "metadata": {
    "colab": {},
    "colab_type": "code",
    "id": "B6H48VFUxSRz"
   },
   "outputs": [],
   "source": [
    "from openrec.utils.samplers import EvaluationSampler\n",
    "# https://github.com/ylongqi/openrec/blob/master/openrec/utils/samplers/evaluation_sampler.py\n",
    "\n",
    "\n",
    "evaluator_sampler_dict = dict()\n",
    "for key, value in gender_dict.items():\n",
    "  # filter users by gender\n",
    "  data = np.argwhere(np.in1d(raw_data['test_data']['user_id'], \n",
    "                             value) == True)[:, 0]\n",
    "\n",
    "  # new dataset for test data\n",
    "  ds = Dataset(raw_data['test_data'][data], raw_data['max_user'],\n",
    "               raw_data['max_item'], name=str(key), num_negatives=500)\n",
    "  evaluator_sampler_dict[key] = EvaluationSampler(batch_size=batch_size, dataset=ds)\n"
   ]
  },
  {
   "cell_type": "code",
   "execution_count": 10,
   "metadata": {
    "colab": {},
    "colab_type": "code",
    "id": "uDrlJrdIABdn"
   },
   "outputs": [],
   "source": [
    "from openrec.utils.evaluators import AUC, Precision, Recall\n",
    "# https://github.com/ylongqi/openrec/tree/master/openrec/utils/evaluators\n",
    "\n",
    "prec_evaluator = Precision(precision_at=[5])\n",
    "rec_evaluator = Recall(recall_at=[5])\n",
    "auc_evaluator = AUC()\n"
   ]
  },
  {
   "cell_type": "markdown",
   "metadata": {
    "colab_type": "text",
    "id": "vsyaCKgEhqVM"
   },
   "source": [
    "## create model and model trainer"
   ]
  },
  {
   "cell_type": "code",
   "execution_count": 11,
   "metadata": {
    "colab": {},
    "colab_type": "code",
    "id": "FsbvQ8D0G1rV"
   },
   "outputs": [],
   "source": [
    "from openrec.recommenders import PMF\n",
    "# https://github.com/ylongqi/openrec/blob/master/openrec/recommenders/pmf.py\n",
    "\n",
    "pmf_model = PMF(batch_size=batch_size, total_users=train_dataset.total_users(), \n",
    "                total_items=train_dataset.total_items(), \n",
    "                dim_user_embed=dim_embed, dim_item_embed=dim_embed, \n",
    "                save_model_dir='pmf_recommender/', train=True, serve=True)\n",
    "\n"
   ]
  },
  {
   "cell_type": "code",
   "execution_count": 12,
   "metadata": {
    "colab": {},
    "colab_type": "code",
    "id": "eTJlvq1Wlhpa",
    "scrolled": false
   },
   "outputs": [
    {
     "name": "stderr",
     "output_type": "stream",
     "text": [
      "WARNING: Logging before flag parsing goes to stderr.\n",
      "W0629 23:16:35.948685 140526982702912 deprecation_wrapper.py:119] From /home/ubuntu/moveable_data/instacart/lib/python3.7/site-packages/openrec/recommenders/recommender.py:263: The name tf.variable_scope is deprecated. Please use tf.compat.v1.variable_scope instead.\n",
      "\n",
      "W0629 23:16:35.950707 140526982702912 deprecation_wrapper.py:119] From /home/ubuntu/moveable_data/instacart/lib/python3.7/site-packages/openrec/recommenders/recommender.py:263: The name tf.AUTO_REUSE is deprecated. Please use tf.compat.v1.AUTO_REUSE instead.\n",
      "\n",
      "W0629 23:16:35.951776 140526982702912 deprecation_wrapper.py:119] From /home/ubuntu/moveable_data/instacart/lib/python3.7/site-packages/openrec/recommenders/pmf.py:17: The name tf.placeholder is deprecated. Please use tf.compat.v1.placeholder instead.\n",
      "\n",
      "W0629 23:16:35.961064 140526982702912 deprecation.py:506] From /home/ubuntu/moveable_data/instacart/lib/python3.7/site-packages/openrec/modules/extractions/latent_factor.py:7: calling TruncatedNormal.__init__ (from tensorflow.python.ops.init_ops) with dtype is deprecated and will be removed in a future version.\n",
      "Instructions for updating:\n",
      "Call initializer instance with the dtype argument instead of passing it to the constructor\n",
      "W0629 23:16:35.963301 140526982702912 deprecation_wrapper.py:119] From /home/ubuntu/moveable_data/instacart/lib/python3.7/site-packages/openrec/modules/extractions/latent_factor.py:14: The name tf.get_variable is deprecated. Please use tf.compat.v1.get_variable instead.\n",
      "\n",
      "W0629 23:16:35.987325 140526982702912 deprecation.py:506] From /home/ubuntu/moveable_data/instacart/lib/python3.7/site-packages/openrec/modules/extractions/latent_factor.py:9: calling Constant.__init__ (from tensorflow.python.ops.init_ops) with dtype is deprecated and will be removed in a future version.\n",
      "Instructions for updating:\n",
      "Call initializer instance with the dtype argument instead of passing it to the constructor\n",
      "W0629 23:16:36.006637 140526982702912 deprecation_wrapper.py:119] From /home/ubuntu/moveable_data/instacart/lib/python3.7/site-packages/openrec/recommenders/recommender.py:237: The name tf.add_to_collection is deprecated. Please use tf.compat.v1.add_to_collection instead.\n",
      "\n",
      "W0629 23:16:36.008905 140526982702912 deprecation_wrapper.py:119] From /home/ubuntu/moveable_data/instacart/lib/python3.7/site-packages/openrec/recommenders/pmf.py:69: The name tf.train.AdamOptimizer is deprecated. Please use tf.compat.v1.train.AdamOptimizer instead.\n",
      "\n",
      "W0629 23:16:36.379508 140526982702912 deprecation_wrapper.py:119] From /home/ubuntu/moveable_data/instacart/lib/python3.7/site-packages/openrec/recommenders/recommender.py:484: The name tf.train.Saver is deprecated. Please use tf.compat.v1.train.Saver instead.\n",
      "\n"
     ]
    }
   ],
   "source": [
    "from openrec import ModelTrainer\n",
    "# https://github.com/ylongqi/openrec/blob/master/openrec/model_trainer.py\n",
    "\n",
    "\n",
    "model_trainer_pmf = ModelTrainer(model=pmf_model)\n"
   ]
  },
  {
   "cell_type": "markdown",
   "metadata": {
    "colab_type": "text",
    "id": "fACNVMTJh4jk"
   },
   "source": [
    "## train simple model"
   ]
  },
  {
   "cell_type": "code",
   "execution_count": 13,
   "metadata": {
    "colab": {},
    "colab_type": "code",
    "id": "Qs4VAvFFz-DF"
   },
   "outputs": [
    {
     "name": "stdout",
     "output_type": "stream",
     "text": [
      "\u001b[34m[Training starts, total_iter: 5000, eval_iter: 5000, save_iter: 5000]\u001b[0m\n",
      "\u001b[31m[iter 5000]\u001b[0m Model saved.\n",
      "\u001b[31m[iter 5000]\u001b[0m loss: 30.102721\n",
      "\u001b[32m..(dataset: m) evaluation\u001b[0m\n"
     ]
    },
    {
     "name": "stderr",
     "output_type": "stream",
     "text": [
      "W0629 23:17:34.546107 140526982702912 deprecation_wrapper.py:119] From /home/ubuntu/moveable_data/instacart/lib/python3.7/site-packages/openrec/recommenders/recommender.py:462: The name tf.train.NewCheckpointReader is deprecated. Please use tf.compat.v1.train.NewCheckpointReader instead.\n",
      "\n",
      "W0629 23:17:34.568259 140526982702912 deprecation.py:323] From /home/ubuntu/moveable_data/instacart/lib/python3.7/site-packages/tensorflow/python/training/saver.py:1276: checkpoint_exists (from tensorflow.python.training.checkpoint_management) is deprecated and will be removed in a future version.\n",
      "Instructions for updating:\n",
      "Use standard file APIs to check for files with this prefix.\n"
     ]
    },
    {
     "name": "stdout",
     "output_type": "stream",
     "text": [
      "\u001b[32m..(dataset: m)\u001b[0m AUC 0.7683673833660036\n",
      "\u001b[32m..(dataset: m)\u001b[0m Precision 0.6582329317269077\n",
      "\u001b[32m..(dataset: m)\u001b[0m Recall 0.09393222674713822\n",
      "\u001b[32m..(dataset: f) evaluation\u001b[0m\n",
      "\u001b[32m..(dataset: f)\u001b[0m AUC 0.7869427892576011\n",
      "\u001b[32m..(dataset: f)\u001b[0m Precision 0.6862433862433862\n",
      "\u001b[32m..(dataset: f)\u001b[0m Recall 0.10475213229693789\n",
      "\u001b[32m..(dataset: nan) evaluation\u001b[0m\n",
      "\u001b[32m..(dataset: nan)\u001b[0m AUC 0.7613560677041215\n",
      "\u001b[32m..(dataset: nan)\u001b[0m Precision 0.6841121495327103\n",
      "\u001b[32m..(dataset: nan)\u001b[0m Recall 0.10588419875916444\n"
     ]
    }
   ],
   "source": [
    "model_trainer_pmf.train(total_iter=total_iter, \n",
    "                    eval_iter=eval_iter, \n",
    "                    save_iter=save_iter, \n",
    "                    train_sampler=train_sampler_pointwise, \n",
    "                    eval_samplers=evaluator_sampler_dict.values(), \n",
    "                    evaluators=[auc_evaluator, prec_evaluator, rec_evaluator])\n"
   ]
  },
  {
   "cell_type": "markdown",
   "metadata": {
    "colab_type": "text",
    "id": "MV111zBnzLPS"
   },
   "source": [
    "## TODO. Train new model using BPR\n",
    "\n",
    "* Try to use another model (BPR)\n",
    "* Use same model parameters\n",
    "* Use same Samplers and Evaluators\n",
    "* Use different sampler (RandomPairwiseSampler)\n",
    "\n",
    "\n",
    "\n"
   ]
  },
  {
   "cell_type": "code",
   "execution_count": 15,
   "metadata": {
    "colab": {},
    "colab_type": "code",
    "id": "_Ja9ZG-u0ROk"
   },
   "outputs": [],
   "source": [
    "from openrec.recommenders import BPR\n",
    "from openrec.utils.samplers import RandomPairwiseSampler"
   ]
  },
  {
   "cell_type": "code",
   "execution_count": 16,
   "metadata": {
    "colab": {},
    "colab_type": "code",
    "id": "GPYha8pI0Rjp"
   },
   "outputs": [],
   "source": [
    "### 1. Create new sampler RandomPairwiseSampler\n",
    "### 2. Create new model BPR\n",
    "### 3. Create new model trainer with BPR model\n",
    "### 4. Train model with new sampler RandomPointwiseSampler\n",
    "### you can reuse same parameters as in previous example"
   ]
  },
  {
   "cell_type": "code",
   "execution_count": 17,
   "metadata": {
    "colab": {},
    "colab_type": "code",
    "id": "Rk-imFA6e4ra"
   },
   "outputs": [
    {
     "name": "stderr",
     "output_type": "stream",
     "text": [
      "W0629 23:10:23.237165 139831531456320 deprecation.py:323] From /home/ubuntu/moveable_data/instacart/lib/python3.7/site-packages/tensorflow/python/ops/math_grad.py:1250: add_dispatch_support.<locals>.wrapper (from tensorflow.python.ops.array_ops) is deprecated and will be removed in a future version.\n",
      "Instructions for updating:\n",
      "Use tf.where in 2.0, which has the same broadcast rule as np.where\n"
     ]
    },
    {
     "ename": "OSError",
     "evalue": "[Errno 12] Cannot allocate memory",
     "output_type": "error",
     "traceback": [
      "\u001b[0;31m---------------------------------------------------------------------------\u001b[0m",
      "\u001b[0;31mOSError\u001b[0m                                   Traceback (most recent call last)",
      "\u001b[0;32m<ipython-input-17-8931edbfebb7>\u001b[0m in \u001b[0;36m<module>\u001b[0;34m\u001b[0m\n\u001b[1;32m     15\u001b[0m                     \u001b[0mtrain_sampler\u001b[0m\u001b[0;34m=\u001b[0m\u001b[0mtrain_sampler_pairwise\u001b[0m\u001b[0;34m,\u001b[0m\u001b[0;34m\u001b[0m\u001b[0;34m\u001b[0m\u001b[0m\n\u001b[1;32m     16\u001b[0m                     \u001b[0meval_samplers\u001b[0m\u001b[0;34m=\u001b[0m\u001b[0mevaluator_sampler_dict\u001b[0m\u001b[0;34m.\u001b[0m\u001b[0mvalues\u001b[0m\u001b[0;34m(\u001b[0m\u001b[0;34m)\u001b[0m\u001b[0;34m,\u001b[0m\u001b[0;34m\u001b[0m\u001b[0;34m\u001b[0m\u001b[0m\n\u001b[0;32m---> 17\u001b[0;31m                     evaluators=[auc_evaluator, prec_evaluator, rec_evaluator])\n\u001b[0m\u001b[1;32m     18\u001b[0m \u001b[0;34m\u001b[0m\u001b[0m\n",
      "\u001b[0;32m~/moveable_data/instacart/lib/python3.7/site-packages/openrec/model_trainer.py\u001b[0m in \u001b[0;36mtrain\u001b[0;34m(self, total_iter, eval_iter, save_iter, train_sampler, start_iter, eval_samplers, evaluators)\u001b[0m\n\u001b[1;32m     63\u001b[0m         \u001b[0mself\u001b[0m\u001b[0;34m.\u001b[0m\u001b[0m_eval_manager\u001b[0m \u001b[0;34m=\u001b[0m \u001b[0mEvalManager\u001b[0m\u001b[0;34m(\u001b[0m\u001b[0mevaluators\u001b[0m\u001b[0;34m=\u001b[0m\u001b[0mevaluators\u001b[0m\u001b[0;34m)\u001b[0m\u001b[0;34m\u001b[0m\u001b[0;34m\u001b[0m\u001b[0m\n\u001b[1;32m     64\u001b[0m \u001b[0;34m\u001b[0m\u001b[0m\n\u001b[0;32m---> 65\u001b[0;31m         \u001b[0mtrain_sampler\u001b[0m\u001b[0;34m.\u001b[0m\u001b[0mreset\u001b[0m\u001b[0;34m(\u001b[0m\u001b[0;34m)\u001b[0m\u001b[0;34m\u001b[0m\u001b[0;34m\u001b[0m\u001b[0m\n\u001b[0m\u001b[1;32m     66\u001b[0m         \u001b[0;32mfor\u001b[0m \u001b[0msampler\u001b[0m \u001b[0;32min\u001b[0m \u001b[0meval_samplers\u001b[0m\u001b[0;34m:\u001b[0m\u001b[0;34m\u001b[0m\u001b[0;34m\u001b[0m\u001b[0m\n\u001b[1;32m     67\u001b[0m             \u001b[0msampler\u001b[0m\u001b[0;34m.\u001b[0m\u001b[0mreset\u001b[0m\u001b[0;34m(\u001b[0m\u001b[0;34m)\u001b[0m\u001b[0;34m\u001b[0m\u001b[0;34m\u001b[0m\u001b[0m\n",
      "\u001b[0;32m~/moveable_data/instacart/lib/python3.7/site-packages/openrec/utils/samplers/sampler.py\u001b[0m in \u001b[0;36mreset\u001b[0;34m(self)\u001b[0m\n\u001b[1;32m     49\u001b[0m             \u001b[0mrunner\u001b[0m \u001b[0;34m=\u001b[0m \u001b[0m_Sampler\u001b[0m\u001b[0;34m(\u001b[0m\u001b[0mself\u001b[0m\u001b[0;34m.\u001b[0m\u001b[0m_dataset\u001b[0m\u001b[0;34m,\u001b[0m \u001b[0mself\u001b[0m\u001b[0;34m.\u001b[0m\u001b[0m_q\u001b[0m\u001b[0;34m,\u001b[0m \u001b[0mself\u001b[0m\u001b[0;34m.\u001b[0m\u001b[0m_generate_batch\u001b[0m\u001b[0;34m)\u001b[0m\u001b[0;34m\u001b[0m\u001b[0;34m\u001b[0m\u001b[0m\n\u001b[1;32m     50\u001b[0m             \u001b[0mrunner\u001b[0m\u001b[0;34m.\u001b[0m\u001b[0mdaemon\u001b[0m \u001b[0;34m=\u001b[0m \u001b[0;32mTrue\u001b[0m\u001b[0;34m\u001b[0m\u001b[0;34m\u001b[0m\u001b[0m\n\u001b[0;32m---> 51\u001b[0;31m             \u001b[0mrunner\u001b[0m\u001b[0;34m.\u001b[0m\u001b[0mstart\u001b[0m\u001b[0;34m(\u001b[0m\u001b[0;34m)\u001b[0m\u001b[0;34m\u001b[0m\u001b[0;34m\u001b[0m\u001b[0m\n\u001b[0m\u001b[1;32m     52\u001b[0m             \u001b[0mself\u001b[0m\u001b[0;34m.\u001b[0m\u001b[0m_runner_list\u001b[0m\u001b[0;34m.\u001b[0m\u001b[0mappend\u001b[0m\u001b[0;34m(\u001b[0m\u001b[0mrunner\u001b[0m\u001b[0;34m)\u001b[0m\u001b[0;34m\u001b[0m\u001b[0;34m\u001b[0m\u001b[0m\n\u001b[1;32m     53\u001b[0m         \u001b[0mself\u001b[0m\u001b[0;34m.\u001b[0m\u001b[0m_start\u001b[0m \u001b[0;34m=\u001b[0m \u001b[0;32mTrue\u001b[0m\u001b[0;34m\u001b[0m\u001b[0;34m\u001b[0m\u001b[0m\n",
      "\u001b[0;32m~/miniconda3/lib/python3.7/multiprocessing/process.py\u001b[0m in \u001b[0;36mstart\u001b[0;34m(self)\u001b[0m\n\u001b[1;32m    110\u001b[0m                \u001b[0;34m'daemonic processes are not allowed to have children'\u001b[0m\u001b[0;34m\u001b[0m\u001b[0;34m\u001b[0m\u001b[0m\n\u001b[1;32m    111\u001b[0m         \u001b[0m_cleanup\u001b[0m\u001b[0;34m(\u001b[0m\u001b[0;34m)\u001b[0m\u001b[0;34m\u001b[0m\u001b[0;34m\u001b[0m\u001b[0m\n\u001b[0;32m--> 112\u001b[0;31m         \u001b[0mself\u001b[0m\u001b[0;34m.\u001b[0m\u001b[0m_popen\u001b[0m \u001b[0;34m=\u001b[0m \u001b[0mself\u001b[0m\u001b[0;34m.\u001b[0m\u001b[0m_Popen\u001b[0m\u001b[0;34m(\u001b[0m\u001b[0mself\u001b[0m\u001b[0;34m)\u001b[0m\u001b[0;34m\u001b[0m\u001b[0;34m\u001b[0m\u001b[0m\n\u001b[0m\u001b[1;32m    113\u001b[0m         \u001b[0mself\u001b[0m\u001b[0;34m.\u001b[0m\u001b[0m_sentinel\u001b[0m \u001b[0;34m=\u001b[0m \u001b[0mself\u001b[0m\u001b[0;34m.\u001b[0m\u001b[0m_popen\u001b[0m\u001b[0;34m.\u001b[0m\u001b[0msentinel\u001b[0m\u001b[0;34m\u001b[0m\u001b[0;34m\u001b[0m\u001b[0m\n\u001b[1;32m    114\u001b[0m         \u001b[0;31m# Avoid a refcycle if the target function holds an indirect\u001b[0m\u001b[0;34m\u001b[0m\u001b[0;34m\u001b[0m\u001b[0;34m\u001b[0m\u001b[0m\n",
      "\u001b[0;32m~/miniconda3/lib/python3.7/multiprocessing/context.py\u001b[0m in \u001b[0;36m_Popen\u001b[0;34m(process_obj)\u001b[0m\n\u001b[1;32m    221\u001b[0m     \u001b[0;34m@\u001b[0m\u001b[0mstaticmethod\u001b[0m\u001b[0;34m\u001b[0m\u001b[0;34m\u001b[0m\u001b[0m\n\u001b[1;32m    222\u001b[0m     \u001b[0;32mdef\u001b[0m \u001b[0m_Popen\u001b[0m\u001b[0;34m(\u001b[0m\u001b[0mprocess_obj\u001b[0m\u001b[0;34m)\u001b[0m\u001b[0;34m:\u001b[0m\u001b[0;34m\u001b[0m\u001b[0;34m\u001b[0m\u001b[0m\n\u001b[0;32m--> 223\u001b[0;31m         \u001b[0;32mreturn\u001b[0m \u001b[0m_default_context\u001b[0m\u001b[0;34m.\u001b[0m\u001b[0mget_context\u001b[0m\u001b[0;34m(\u001b[0m\u001b[0;34m)\u001b[0m\u001b[0;34m.\u001b[0m\u001b[0mProcess\u001b[0m\u001b[0;34m.\u001b[0m\u001b[0m_Popen\u001b[0m\u001b[0;34m(\u001b[0m\u001b[0mprocess_obj\u001b[0m\u001b[0;34m)\u001b[0m\u001b[0;34m\u001b[0m\u001b[0;34m\u001b[0m\u001b[0m\n\u001b[0m\u001b[1;32m    224\u001b[0m \u001b[0;34m\u001b[0m\u001b[0m\n\u001b[1;32m    225\u001b[0m \u001b[0;32mclass\u001b[0m \u001b[0mDefaultContext\u001b[0m\u001b[0;34m(\u001b[0m\u001b[0mBaseContext\u001b[0m\u001b[0;34m)\u001b[0m\u001b[0;34m:\u001b[0m\u001b[0;34m\u001b[0m\u001b[0;34m\u001b[0m\u001b[0m\n",
      "\u001b[0;32m~/miniconda3/lib/python3.7/multiprocessing/context.py\u001b[0m in \u001b[0;36m_Popen\u001b[0;34m(process_obj)\u001b[0m\n\u001b[1;32m    275\u001b[0m         \u001b[0;32mdef\u001b[0m \u001b[0m_Popen\u001b[0m\u001b[0;34m(\u001b[0m\u001b[0mprocess_obj\u001b[0m\u001b[0;34m)\u001b[0m\u001b[0;34m:\u001b[0m\u001b[0;34m\u001b[0m\u001b[0;34m\u001b[0m\u001b[0m\n\u001b[1;32m    276\u001b[0m             \u001b[0;32mfrom\u001b[0m \u001b[0;34m.\u001b[0m\u001b[0mpopen_fork\u001b[0m \u001b[0;32mimport\u001b[0m \u001b[0mPopen\u001b[0m\u001b[0;34m\u001b[0m\u001b[0;34m\u001b[0m\u001b[0m\n\u001b[0;32m--> 277\u001b[0;31m             \u001b[0;32mreturn\u001b[0m \u001b[0mPopen\u001b[0m\u001b[0;34m(\u001b[0m\u001b[0mprocess_obj\u001b[0m\u001b[0;34m)\u001b[0m\u001b[0;34m\u001b[0m\u001b[0;34m\u001b[0m\u001b[0m\n\u001b[0m\u001b[1;32m    278\u001b[0m \u001b[0;34m\u001b[0m\u001b[0m\n\u001b[1;32m    279\u001b[0m     \u001b[0;32mclass\u001b[0m \u001b[0mSpawnProcess\u001b[0m\u001b[0;34m(\u001b[0m\u001b[0mprocess\u001b[0m\u001b[0;34m.\u001b[0m\u001b[0mBaseProcess\u001b[0m\u001b[0;34m)\u001b[0m\u001b[0;34m:\u001b[0m\u001b[0;34m\u001b[0m\u001b[0;34m\u001b[0m\u001b[0m\n",
      "\u001b[0;32m~/miniconda3/lib/python3.7/multiprocessing/popen_fork.py\u001b[0m in \u001b[0;36m__init__\u001b[0;34m(self, process_obj)\u001b[0m\n\u001b[1;32m     18\u001b[0m         \u001b[0mself\u001b[0m\u001b[0;34m.\u001b[0m\u001b[0mreturncode\u001b[0m \u001b[0;34m=\u001b[0m \u001b[0;32mNone\u001b[0m\u001b[0;34m\u001b[0m\u001b[0;34m\u001b[0m\u001b[0m\n\u001b[1;32m     19\u001b[0m         \u001b[0mself\u001b[0m\u001b[0;34m.\u001b[0m\u001b[0mfinalizer\u001b[0m \u001b[0;34m=\u001b[0m \u001b[0;32mNone\u001b[0m\u001b[0;34m\u001b[0m\u001b[0;34m\u001b[0m\u001b[0m\n\u001b[0;32m---> 20\u001b[0;31m         \u001b[0mself\u001b[0m\u001b[0;34m.\u001b[0m\u001b[0m_launch\u001b[0m\u001b[0;34m(\u001b[0m\u001b[0mprocess_obj\u001b[0m\u001b[0;34m)\u001b[0m\u001b[0;34m\u001b[0m\u001b[0;34m\u001b[0m\u001b[0m\n\u001b[0m\u001b[1;32m     21\u001b[0m \u001b[0;34m\u001b[0m\u001b[0m\n\u001b[1;32m     22\u001b[0m     \u001b[0;32mdef\u001b[0m \u001b[0mduplicate_for_child\u001b[0m\u001b[0;34m(\u001b[0m\u001b[0mself\u001b[0m\u001b[0;34m,\u001b[0m \u001b[0mfd\u001b[0m\u001b[0;34m)\u001b[0m\u001b[0;34m:\u001b[0m\u001b[0;34m\u001b[0m\u001b[0;34m\u001b[0m\u001b[0m\n",
      "\u001b[0;32m~/miniconda3/lib/python3.7/multiprocessing/popen_fork.py\u001b[0m in \u001b[0;36m_launch\u001b[0;34m(self, process_obj)\u001b[0m\n\u001b[1;32m     68\u001b[0m         \u001b[0mcode\u001b[0m \u001b[0;34m=\u001b[0m \u001b[0;36m1\u001b[0m\u001b[0;34m\u001b[0m\u001b[0;34m\u001b[0m\u001b[0m\n\u001b[1;32m     69\u001b[0m         \u001b[0mparent_r\u001b[0m\u001b[0;34m,\u001b[0m \u001b[0mchild_w\u001b[0m \u001b[0;34m=\u001b[0m \u001b[0mos\u001b[0m\u001b[0;34m.\u001b[0m\u001b[0mpipe\u001b[0m\u001b[0;34m(\u001b[0m\u001b[0;34m)\u001b[0m\u001b[0;34m\u001b[0m\u001b[0;34m\u001b[0m\u001b[0m\n\u001b[0;32m---> 70\u001b[0;31m         \u001b[0mself\u001b[0m\u001b[0;34m.\u001b[0m\u001b[0mpid\u001b[0m \u001b[0;34m=\u001b[0m \u001b[0mos\u001b[0m\u001b[0;34m.\u001b[0m\u001b[0mfork\u001b[0m\u001b[0;34m(\u001b[0m\u001b[0;34m)\u001b[0m\u001b[0;34m\u001b[0m\u001b[0;34m\u001b[0m\u001b[0m\n\u001b[0m\u001b[1;32m     71\u001b[0m         \u001b[0;32mif\u001b[0m \u001b[0mself\u001b[0m\u001b[0;34m.\u001b[0m\u001b[0mpid\u001b[0m \u001b[0;34m==\u001b[0m \u001b[0;36m0\u001b[0m\u001b[0;34m:\u001b[0m\u001b[0;34m\u001b[0m\u001b[0;34m\u001b[0m\u001b[0m\n\u001b[1;32m     72\u001b[0m             \u001b[0;32mtry\u001b[0m\u001b[0;34m:\u001b[0m\u001b[0;34m\u001b[0m\u001b[0;34m\u001b[0m\u001b[0m\n",
      "\u001b[0;31mOSError\u001b[0m: [Errno 12] Cannot allocate memory"
     ]
    }
   ],
   "source": [
    "#ANSWER \n",
    "train_sampler_pairwise = RandomPairwiseSampler(batch_size=batch_size, dataset=train_dataset, num_process=5)\n",
    "\n",
    "bpr_model = BPR(batch_size=batch_size, total_users=train_dataset.total_users(), \n",
    "                total_items=train_dataset.total_items(), \n",
    "                dim_user_embed=dim_embed, dim_item_embed=dim_embed, \n",
    "                save_model_dir='bpr_recommender/', train=True, serve=True)\n",
    "\n",
    "\n",
    "model_trainer_bpr = ModelTrainer(model=bpr_model)\n",
    "\n",
    "model_trainer_bpr.train(total_iter=total_iter, \n",
    "                    eval_iter=eval_iter, \n",
    "                    save_iter=save_iter, \n",
    "                    train_sampler=train_sampler_pairwise, \n",
    "                    eval_samplers=evaluator_sampler_dict.values(), \n",
    "                    evaluators=[auc_evaluator, prec_evaluator, rec_evaluator])\n",
    "\n"
   ]
  },
  {
   "cell_type": "markdown",
   "metadata": {
    "colab_type": "text",
    "id": "5iszCiE_0yJi"
   },
   "source": [
    "# Part 2. Fairness. Balanced user sampling\n",
    "\n",
    "Some group of users have lower presence in dataset and therefore lower performance. \n",
    "\n",
    "In this section, we want to show that OpenRec allows researchers to experiment with sampling data during training."
   ]
  },
  {
   "cell_type": "code",
   "execution_count": 0,
   "metadata": {
    "colab": {},
    "colab_type": "code",
    "id": "s7Uq58L8poWN"
   },
   "outputs": [],
   "source": [
    "## let's see again the gender balance for users\n",
    "graph = plt.pie([x[1] for x in balance], explode=[0,0,.4], labels=[x[0] for x in balance], autopct='%1.1f%%',\n",
    "        shadow=True, startangle=90, textprops={'fontsize': 18})\n"
   ]
  },
  {
   "cell_type": "markdown",
   "metadata": {
    "colab_type": "text",
    "id": "DAjvxKHPqXWn"
   },
   "source": [
    "Let's look at \"nan\" users who are not well represented in dataset and try to write a function that oversamples\n",
    "them for training"
   ]
  },
  {
   "cell_type": "code",
   "execution_count": 0,
   "metadata": {
    "colab": {},
    "colab_type": "code",
    "id": "FSJhLiXTtlK7"
   },
   "outputs": [],
   "source": [
    "nan_users_list = gender_dict[nan_value]\n",
    "print('Number of users: ')\n",
    "len(nan_users_list)"
   ]
  },
  {
   "cell_type": "markdown",
   "metadata": {
    "colab_type": "text",
    "id": "mY99G8ObuQNB"
   },
   "source": [
    "## TODO. Rebalance NAN group to make the performance on this group similar to other groups\n",
    "\n",
    "\n",
    "* Modify Pointwise sampler to assign larger labels when users belong to NAN category\n",
    "* Measure effect of your changes\n",
    "* You can modify method parameters to make it more general\n",
    "* What are better ways to experiment with fairness?"
   ]
  },
  {
   "cell_type": "code",
   "execution_count": 0,
   "metadata": {
    "colab": {},
    "colab_type": "code",
    "id": "uso5xejkpoO0"
   },
   "outputs": [],
   "source": [
    "from openrec.utils.samplers import Sampler\n",
    "\n",
    "def RandomPointwiseSamplerFair(dataset, batch_size, num_process=5, seed=100):\n",
    "    \n",
    "    random.seed(seed)\n",
    "    def batch(dataset, batch_size=batch_size):\n",
    "        \n",
    "        while True:\n",
    "            input_npy = np.zeros(batch_size, dtype=[('user_id', np.int32),\n",
    "                                                        ('item_id', np.int32),\n",
    "                                                        ('label', np.float32)])\n",
    "            \n",
    "            for ind in range(batch_size):\n",
    "                user_id = random.randint(0, dataset.total_users()-1)\n",
    "                item_id = random.randint(0, dataset.total_items()-1)\n",
    "                label = 1.0 if dataset.is_positive(user_id, item_id) else 0.0\n",
    "                ##### START YOUR CODE HERE\n",
    "                \n",
    "                # ASSIGN LARGER WEIGHTS TO ENTRIES BY NAN USERS\n",
    "                \n",
    "                #ANSWER\n",
    "                if user_id in nan_users_list:\n",
    "                  label *= 1.8\n",
    "                \n",
    "                ##### END YOUR CODE HERE\n",
    "                \n",
    "                input_npy[ind] = (user_id, item_id, label)\n",
    "            yield input_npy\n",
    "    \n",
    "    s = Sampler(dataset=dataset, generate_batch=batch, num_process=num_process)\n",
    "    \n",
    "    return s"
   ]
  },
  {
   "cell_type": "code",
   "execution_count": 0,
   "metadata": {
    "colab": {},
    "colab_type": "code",
    "id": "PhRVfGKvpoHN"
   },
   "outputs": [],
   "source": [
    "# create new sampler\n",
    "\n",
    "train_sampler_pointwise_fair = RandomPointwiseSamplerFair(batch_size=batch_size, dataset=train_dataset, num_process=5)"
   ]
  },
  {
   "cell_type": "code",
   "execution_count": 0,
   "metadata": {
    "colab": {},
    "colab_type": "code",
    "id": "34-RtOBXpn-P"
   },
   "outputs": [],
   "source": [
    "# use sampler to train your model\n",
    "\n",
    "pmf_model_fair = PMF(batch_size=batch_size, total_users=train_dataset.total_users(), \n",
    "                total_items=train_dataset.total_items(), \n",
    "                dim_user_embed=dim_embed, dim_item_embed=dim_embed, \n",
    "                save_model_dir='pmf_recommender/', train=True, serve=True)\n",
    "\n",
    "model_trainer_pmf_fair = ModelTrainer(model=pmf_model_fair)\n",
    "\n",
    "\n",
    "model_trainer_pmf_fair.train(total_iter=total_iter, \n",
    "                    eval_iter=eval_iter, \n",
    "                    save_iter=save_iter, \n",
    "                    train_sampler=train_sampler_pointwise_fair, \n",
    "                    eval_samplers=evaluator_sampler_dict.values(), \n",
    "                    evaluators=[auc_evaluator, prec_evaluator, rec_evaluator])\n"
   ]
  },
  {
   "cell_type": "markdown",
   "metadata": {
    "colab_type": "text",
    "id": "OFI2pbJ7zAM6"
   },
   "source": [
    "# Part 3. Add some diversity to your items\n",
    "\n",
    "In this section, we will try to add more diversity to recommendations. We will use very simple design that boosts predictions for rare items in postprocessing step.\n",
    "\n",
    "Essentially, when the model is served it takes input: ```(user_id, item_id)```. We can find not popular items and set them "
   ]
  },
  {
   "cell_type": "code",
   "execution_count": 0,
   "metadata": {
    "colab": {},
    "colab_type": "code",
    "id": "zwcpYox11JZd"
   },
   "outputs": [],
   "source": [
    "# calculate popularity\n",
    "\n",
    "item_ids, item_counts = np.unique(raw_data['train_data']['item_id'], return_counts=True)\n",
    "\n",
    "\n",
    "mean_count = np.mean(item_counts)\n",
    "\n",
    "plt.hist(item_counts)\n",
    "print(\"Mean value: \\t\", mean_count)\n",
    "plt.title('item popularity hist.')\n",
    "plt.xlabel('Number of times items are consumed')\n",
    "plt.ylabel('Number of items')\n",
    "plt.yscale('log')"
   ]
  },
  {
   "cell_type": "markdown",
   "metadata": {
    "colab_type": "text",
    "id": "gjyw8KcK8gPa"
   },
   "source": [
    "## let's find tail items"
   ]
  },
  {
   "cell_type": "code",
   "execution_count": 0,
   "metadata": {
    "colab": {},
    "colab_type": "code",
    "id": "l1-Qf9zT6Hlo"
   },
   "outputs": [],
   "source": [
    "print('Total number of items:\\t ', item_ids.shape)"
   ]
  },
  {
   "cell_type": "code",
   "execution_count": 0,
   "metadata": {
    "colab": {},
    "colab_type": "code",
    "id": "m3C_dT3o1iZ4"
   },
   "outputs": [],
   "source": [
    "## create list of rare items\n",
    "rare_items = list()\n",
    "for pos, item_id in enumerate(item_ids):\n",
    "  if item_counts[pos] < 10:\n",
    "    rare_items.append(item_id)\n",
    "rare_items = np.array(rare_items)\n",
    "print('Number of rare items (less than 10 occurences in train data) :', rare_items.shape)"
   ]
  },
  {
   "cell_type": "markdown",
   "metadata": {
    "colab_type": "text",
    "id": "9htUSSnM-iRF"
   },
   "source": [
    "## calculate predictions for rare and popular items"
   ]
  },
  {
   "cell_type": "code",
   "execution_count": 0,
   "metadata": {
    "colab": {},
    "colab_type": "code",
    "id": "jxpU8ahKzQbt"
   },
   "outputs": [],
   "source": [
    "# ### Default evaluation function:\n",
    "#\n",
    "# def _default_eval_iter_func(self, model, batch_data):\n",
    "#     return np.squeeze(model.serve(batch_data)['outputs'])\n",
    "#\n",
    "# ###\n",
    "\n",
    "\n",
    "# get a sample batch from data\n",
    "pos_items, batch_data  = evaluator_sampler_dict[nan_value].next_batch()\n",
    "\n",
    "# get entries for rare and popular items\n",
    "rare_items_in_batch = np.argwhere(np.in1d(batch_data['item_id'], rare_items) == True)\n",
    "pop_items_in_batch = np.argwhere(np.in1d(batch_data['item_id'], rare_items) == False)\n",
    "\n",
    "\n",
    "# calculate predictions for given batch\n",
    "res = model_trainer_pmf_fair._default_eval_iter_func(pmf_model, batch_data)\n",
    "\n",
    "print(f'Rare items mean prediction: {np.mean(res[rare_items_in_batch])}')\n",
    "print(f'Popular items mean prediction: {np.mean(res[pop_items_in_batch])}')"
   ]
  },
  {
   "cell_type": "markdown",
   "metadata": {
    "colab_type": "text",
    "id": "B9SWX5f7-2gP"
   },
   "source": [
    "## define function that boosts predictions for rare items"
   ]
  },
  {
   "cell_type": "code",
   "execution_count": 0,
   "metadata": {
    "colab": {},
    "colab_type": "code",
    "id": "4erXXLW26ZJn"
   },
   "outputs": [],
   "source": [
    "scale_parameter = 2\n",
    "\n",
    "\n",
    "def diverse_eval_iter_func(model, batch_data):\n",
    "    rare_items_in_batch = np.argwhere(np.in1d(batch_data['item_id'], rare_items) == True)\n",
    "    predictions = np.squeeze(model.serve(batch_data)['outputs'])\n",
    "    predictions[rare_items_in_batch] *= scale_parameter\n",
    "    return predictions"
   ]
  },
  {
   "cell_type": "code",
   "execution_count": 0,
   "metadata": {
    "colab": {},
    "colab_type": "code",
    "id": "Y9tKiO0f4Tbi"
   },
   "outputs": [],
   "source": [
    "res_diverse = diverse_eval_iter_func(model_trainer_pmf_fair, batch_data)\n",
    "print(f'Rare items mean score: {np.mean(res_diverse[rare_items_in_batch])}')\n",
    "print(f'Popular items mean score: {np.mean(res_diverse[pop_items_in_batch])}')"
   ]
  },
  {
   "cell_type": "code",
   "execution_count": 0,
   "metadata": {
    "colab": {},
    "colab_type": "code",
    "id": "HfpuWNw4zQ3i"
   },
   "outputs": [],
   "source": [
    "# train a model that has more diverse predictions\n",
    "\n",
    "pmf_model_fair_diverse = PMF(batch_size=batch_size, total_users=train_dataset.total_users(), \n",
    "                total_items=train_dataset.total_items(), \n",
    "                dim_user_embed=dim_embed, dim_item_embed=dim_embed, \n",
    "                save_model_dir='pmf_recommender/', train=True, serve=True)\n",
    "\n",
    "model_trainer_pmf_fair_diverse = ModelTrainer(model=pmf_model_fair_diverse, eval_iter_func=diverse_eval_iter_func)\n",
    "\n",
    "\n",
    "model_trainer_pmf_fair_diverse.train(total_iter=total_iter, \n",
    "                    eval_iter=eval_iter, \n",
    "                    save_iter=save_iter, \n",
    "                    train_sampler=train_sampler_pointwise_fair, \n",
    "                    eval_samplers=evaluator_sampler_dict.values(), \n",
    "                    evaluators=[auc_evaluator, prec_evaluator, rec_evaluator])\n"
   ]
  },
  {
   "cell_type": "markdown",
   "metadata": {
    "colab_type": "text",
    "id": "CBDfaa-q_mi6"
   },
   "source": [
    "# Congrats! \n",
    "\n",
    "You have trained a simple model and implemented your own sampler that balances users' entries and oversamples gender NAN and added very simple diversity to your recommendations.\n",
    "\n",
    "* Use it for your problems and let us know about new issues or ideas\n",
    "* Help us by contributing to the project: https://github.com/ylongqi/openrec\n"
   ]
  },
  {
   "cell_type": "markdown",
   "metadata": {
    "colab_type": "text",
    "id": "5WKQXT37njZo"
   },
   "source": [
    "<!-- <p align=\"left\">\n",
    " <img src =\"https://github.com/ylongqi/openrec-web/raw/gh-pages/openrec.png?raw=true\" width=\"100\" height=“20” />\n",
    "</p> -->\n",
    "\n",
    "\n"
   ]
  }
 ],
 "metadata": {
  "accelerator": "GPU",
  "colab": {
   "collapsed_sections": [],
   "include_colab_link": true,
   "name": "OpenRec_Basics_Diversity_and_Fairness.ipynb",
   "private_outputs": true,
   "provenance": [],
   "toc_visible": true,
   "version": "0.3.2"
  },
  "kernelspec": {
   "display_name": "Python 3",
   "language": "python",
   "name": "python3"
  },
  "language_info": {
   "codemirror_mode": {
    "name": "ipython",
    "version": 3
   },
   "file_extension": ".py",
   "mimetype": "text/x-python",
   "name": "python",
   "nbconvert_exporter": "python",
   "pygments_lexer": "ipython3",
   "version": "3.7.3"
  }
 },
 "nbformat": 4,
 "nbformat_minor": 1
}
