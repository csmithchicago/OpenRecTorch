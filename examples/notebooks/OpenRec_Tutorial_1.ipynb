{
 "cells": [
  {
   "cell_type": "markdown",
   "metadata": {
    "colab_type": "text",
    "id": "view-in-github"
   },
   "source": [
    "[View in Colaboratory](https://colab.research.google.com/github/ylongqi/openrec/blob/master/tutorials/OpenRec_Tutorial_1.ipynb)"
   ]
  },
  {
   "cell_type": "markdown",
   "metadata": {
    "colab_type": "text",
    "id": "EWey7zLleCFQ"
   },
   "source": [
    "\n",
    "Get Started\n",
    "---\n",
    "by *[Longqi@Cornell](http://www.cs.cornell.edu/~ylongqi)* licensed under [Creative Commons Attribution 4.0 International License](https://creativecommons.org/licenses/by/4.0/)\n",
    "\n",
    "This tutorial demonstrates the process of training and evaluating recommendation algorithms using OpenRec (>=0.2.0):\n",
    "\n",
    "*   Prepare training and evaluation datasets.\n",
    "*   Instantiate samplers for training and evaluation.\n",
    "*   Instantiate a recommender.\n",
    "*   Instantiate evaluators.\n",
    "*   Instantiate a model trainer.\n",
    "*   TRAIN AND EVALUATE!"
   ]
  },
  {
   "cell_type": "markdown",
   "metadata": {
    "colab_type": "text",
    "id": "fD_18EbZe8aw"
   },
   "source": [
    "Prepare training and evaluation datasets\n",
    "---\n",
    "*   Download your favorite dataset from the web. In this tutorial, we use [a relatively small citeulike dataset](http://www.wanghao.in/CDL.htm) for demonstration purpose."
   ]
  },
  {
   "cell_type": "code",
   "execution_count": 2,
   "metadata": {
    "colab": {},
    "colab_type": "code",
    "id": "igm-6STld-bG"
   },
   "outputs": [
    {
     "name": "stdout",
     "output_type": "stream",
     "text": [
      "Reading package lists... Done\n",
      "Building dependency tree       \n",
      "Reading state information... Done\n",
      "The following packages were automatically installed and are no longer required:\n",
      "  linux-aws-headers-4.15.0-1035 linux-aws-headers-4.15.0-1039\n",
      "  linux-aws-headers-4.15.0-1040 linux-headers-4.15.0-1040-aws\n",
      "  linux-image-4.15.0-1040-aws linux-modules-4.15.0-1040-aws\n",
      "Use 'sudo apt autoremove' to remove them.\n",
      "The following NEW packages will be installed:\n",
      "  unrar\n",
      "0 upgraded, 1 newly installed, 0 to remove and 0 not upgraded.\n",
      "Need to get 129 kB of archives.\n",
      "After this operation, 322 kB of additional disk space will be used.\n",
      "Get:1 http://us-east-1.ec2.archive.ubuntu.com/ubuntu bionic/multiverse amd64 unrar amd64 1:5.5.8-1 [129 kB]\n",
      "Fetched 129 kB in 0s (1405 kB/s)\n",
      "Selecting previously unselected package unrar.\n",
      "(Reading database ... 246369 files and directories currently installed.)\n",
      "Preparing to unpack .../unrar_1%3a5.5.8-1_amd64.deb ...\n",
      "Unpacking unrar (1:5.5.8-1) ...\n",
      "Setting up unrar (1:5.5.8-1) ...\n",
      "update-alternatives: using /usr/bin/unrar-nonfree to provide /usr/bin/unrar (unrar) in auto mode\n",
      "Processing triggers for man-db (2.8.3-2ubuntu0.1) ...\n",
      "Requirement already satisfied: openrec in /home/ubuntu/moveable_data/instacart/lib/python3.7/site-packages (0.2.4)\n",
      "Requirement already satisfied: numpy>=1.13.0 in /home/ubuntu/moveable_data/instacart/lib/python3.7/site-packages (from openrec) (1.16.4)\n",
      "Requirement already satisfied: tqdm>=4.15.0 in /home/ubuntu/moveable_data/instacart/lib/python3.7/site-packages (from openrec) (4.32.2)\n",
      "Requirement already satisfied: termcolor>=1.1.0 in /home/ubuntu/moveable_data/instacart/lib/python3.7/site-packages (from openrec) (1.1.0)\n"
     ]
    },
    {
     "data": {
      "text/plain": [
       "0"
      ]
     },
     "execution_count": 2,
     "metadata": {},
     "output_type": "execute_result"
    }
   ],
   "source": [
    "!sudo apt-get install unrar\n",
    "!pip install openrec\n",
    "\n",
    "import os\n",
    "try:\n",
    "    from urllib.request import urlretrieve\n",
    "except ImportError:\n",
    "    from urllib import urlretrieve\n",
    "\n",
    "urlretrieve('http://www.wanghao.in/data/ctrsr_datasets.rar', 'ctrsr_datasets.rar')\n",
    "os.system('unrar x ctrsr_datasets.rar')"
   ]
  },
  {
   "cell_type": "markdown",
   "metadata": {
    "colab_type": "text",
    "id": "_2hSL6njf6pW"
   },
   "source": [
    "*   Convert raw data into [numpy structured array](https://docs.scipy.org/doc/numpy-1.13.0/user/basics.rec.html). As required by the [Dataset](https://github.com/ylongqi/openrec/blob/master/openrec/utils/dataset.py) class, two keys **user_id** and **item_id** are required. Each row in the converted numpy array represents an interaction. The array might contain additional keys based on the use cases.\n",
    "\n"
   ]
  },
  {
   "cell_type": "code",
   "execution_count": 4,
   "metadata": {
    "colab": {},
    "colab_type": "code",
    "id": "Jn-syZ27fgLQ"
   },
   "outputs": [],
   "source": [
    "import numpy as np\n",
    "import random\n",
    "\n",
    "total_users = 0\n",
    "interactions_count = 0\n",
    "with open('ctrsr_datasets/citeulike-a/users.dat', 'r') as fin:\n",
    "    for line in fin:\n",
    "        interactions_count += int(line.split()[0])\n",
    "        total_users += 1\n",
    "\n",
    "# radomly hold out an item per user for validation and testing respectively.\n",
    "val_structured_arr = np.zeros(total_users, dtype=[('user_id', np.int32), \n",
    "                                                  ('item_id', np.int32)]) \n",
    "test_structured_arr = np.zeros(total_users, dtype=[('user_id', np.int32), \n",
    "                                                   ('item_id', np.int32)])\n",
    "train_structured_arr = np.zeros(interactions_count-total_users * 2, \n",
    "                                dtype=[('user_id', np.int32), \n",
    "                                       ('item_id', np.int32)])\n",
    "\n",
    "interaction_ind = 0\n",
    "next_user_id = 0\n",
    "next_item_id = 0\n",
    "map_to_item_id = dict()  # Map item id from 0 to len(items)-1\n",
    "\n",
    "with open('ctrsr_datasets/citeulike-a/users.dat', 'r') as fin:\n",
    "    for line in fin:\n",
    "        item_list = line.split()[1:]\n",
    "        random.shuffle(item_list)\n",
    "        for ind, item in enumerate(item_list):\n",
    "            if item not in map_to_item_id:\n",
    "                map_to_item_id[item] = next_item_id\n",
    "                next_item_id += 1\n",
    "            if ind == 0:\n",
    "                val_structured_arr[next_user_id] = (next_user_id, \n",
    "                                                    map_to_item_id[item])\n",
    "            elif ind == 1:\n",
    "                test_structured_arr[next_user_id] = (next_user_id, \n",
    "                                                     map_to_item_id[item])\n",
    "            else:\n",
    "                train_structured_arr[interaction_ind] = (next_user_id, \n",
    "                                                         map_to_item_id[item])\n",
    "                interaction_ind += 1\n",
    "        next_user_id += 1"
   ]
  },
  {
   "cell_type": "markdown",
   "metadata": {
    "colab_type": "text",
    "id": "KOFB8DOejoIu"
   },
   "source": [
    "*   Instantiate training, validation, and testing datasets using the Dataset class."
   ]
  },
  {
   "cell_type": "code",
   "execution_count": null,
   "metadata": {
    "colab": {},
    "colab_type": "code",
    "id": "OM8-0XbkhG3r"
   },
   "outputs": [],
   "source": [
    "from openrec.utils import Dataset\n",
    "\n",
    "train_dataset = Dataset(raw_data=train_structured_arr,\n",
    "                        total_users=total_users, \n",
    "                        total_items=len(map_to_item_id), \n",
    "                        name='Train')\n",
    "val_dataset = Dataset(raw_data=val_structured_arr,\n",
    "                      total_users=total_users,\n",
    "                      total_items=len(map_to_item_id),\n",
    "                      num_negatives=500,\n",
    "                      name='Val')\n",
    "test_dataset = Dataset(raw_data=test_structured_arr,\n",
    "                       total_users=total_users,\n",
    "                       total_items=len(map_to_item_id),\n",
    "                       num_negatives=500,\n",
    "                       name='Test')"
   ]
  },
  {
   "cell_type": "markdown",
   "metadata": {
    "colab_type": "text",
    "id": "q8xdoV6nkDx_"
   },
   "source": [
    "Instantiate samplers\n",
    "---\n",
    "*  For training, **RandomPairwiseSampler** is used, i.e., each instance contains an user, an item that the user interacts, and an item that the user did NOT interact.\n",
    "*  For evaluation, **EvaluationSampler** is used. It feeds in user interaction data one user at a time. For a user, (relevant and irrelevant) items are divided into batches and evaluated seperately."
   ]
  },
  {
   "cell_type": "code",
   "execution_count": 0,
   "metadata": {
    "colab": {},
    "colab_type": "code",
    "id": "qb8G4Kkx0g6Z"
   },
   "outputs": [],
   "source": [
    "from openrec.utils.samplers import RandomPairwiseSampler\n",
    "from openrec.utils.samplers import EvaluationSampler\n",
    "\n",
    "train_sampler = RandomPairwiseSampler(batch_size=1000, \n",
    "                                      dataset=train_dataset, \n",
    "                                      num_process=5)\n",
    "val_sampler = EvaluationSampler(batch_size=1000, \n",
    "                                dataset=val_dataset)\n",
    "test_sampler = EvaluationSampler(batch_size=1000, \n",
    "                                 dataset=test_dataset)"
   ]
  },
  {
   "cell_type": "markdown",
   "metadata": {
    "colab_type": "text",
    "id": "FAAyCiTV0tik"
   },
   "source": [
    "Instantiate a recommender\n",
    "---\n",
    "*  We use the [BPR recommender](https://github.com/ylongqi/openrec/blob/master/openrec/recommenders/bpr.py) that implements the pure Baysian Personalized Ranking (BPR) algorithm."
   ]
  },
  {
   "cell_type": "code",
   "execution_count": 0,
   "metadata": {
    "colab": {},
    "colab_type": "code",
    "id": "I_ovJrcm1ADu"
   },
   "outputs": [],
   "source": [
    "from openrec.recommenders import BPR\n",
    "\n",
    "bpr_model = BPR(batch_size=1000, \n",
    "                total_users=train_dataset.total_users(), \n",
    "                total_items=train_dataset.total_items(), \n",
    "                dim_user_embed=50, \n",
    "                dim_item_embed=50, \n",
    "                save_model_dir='bpr_recommender/', \n",
    "                train=True, serve=True)"
   ]
  },
  {
   "cell_type": "markdown",
   "metadata": {
    "colab_type": "text",
    "id": "PwvAJ-2a1Qcu"
   },
   "source": [
    "Instantiate evaluators\n",
    "---\n",
    "*  Define evaluators that you plan to use. This tutorial evaluate the recommender against Area Under Curve (AUC).\n",
    "\n"
   ]
  },
  {
   "cell_type": "code",
   "execution_count": 0,
   "metadata": {
    "colab": {},
    "colab_type": "code",
    "id": "ZFQ-P3dK1WLr"
   },
   "outputs": [],
   "source": [
    "from openrec.utils.evaluators import AUC\n",
    "\n",
    "auc_evaluator = AUC()"
   ]
  },
  {
   "cell_type": "markdown",
   "metadata": {
    "colab_type": "text",
    "id": "cYgI7yA11YtY"
   },
   "source": [
    "Instantiate a model trainer\n",
    "---\n",
    "*  The model trainer wraps a recommender and makes it ready for training and evaluation."
   ]
  },
  {
   "cell_type": "code",
   "execution_count": 0,
   "metadata": {
    "colab": {},
    "colab_type": "code",
    "id": "JOixyvXk11pI"
   },
   "outputs": [],
   "source": [
    "from openrec import ModelTrainer\n",
    "\n",
    "model_trainer = ModelTrainer(model=bpr_model)"
   ]
  },
  {
   "cell_type": "markdown",
   "metadata": {
    "colab_type": "text",
    "id": "mSG1oFNK17UV"
   },
   "source": [
    "TRAIN AND EVALUATE\n",
    "---"
   ]
  },
  {
   "cell_type": "code",
   "execution_count": 0,
   "metadata": {
    "colab": {},
    "colab_type": "code",
    "id": "LCeXalVE2FAh"
   },
   "outputs": [],
   "source": [
    "model_trainer.train(total_iter=10000,  # Total number of training iterations\n",
    "                    eval_iter=1000,    # Evaluate the model every \"eval_iter\" iterations\n",
    "                    save_iter=10000,   # Save the model every \"save_iter\" iterations\n",
    "                    train_sampler=train_sampler, \n",
    "                    eval_samplers=[val_sampler, test_sampler], \n",
    "                    evaluators=[auc_evaluator])"
   ]
  }
 ],
 "metadata": {
  "colab": {
   "collapsed_sections": [],
   "include_colab_link": true,
   "name": "OpenRec Tutorial #1.ipynb",
   "provenance": [],
   "version": "0.3.2"
  },
  "kernelspec": {
   "display_name": "Python 3",
   "language": "python",
   "name": "python3"
  },
  "language_info": {
   "codemirror_mode": {
    "name": "ipython",
    "version": 3
   },
   "file_extension": ".py",
   "mimetype": "text/x-python",
   "name": "python",
   "nbconvert_exporter": "python",
   "pygments_lexer": "ipython3",
   "version": "3.7.3"
  }
 },
 "nbformat": 4,
 "nbformat_minor": 1
}
